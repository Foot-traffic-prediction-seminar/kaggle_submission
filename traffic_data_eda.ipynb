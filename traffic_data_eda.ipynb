{
  "cells": [
    {
      "cell_type": "code",
      "execution_count": 59,
      "metadata": {
        "id": "OQNL06l0AUhH"
      },
      "outputs": [],
      "source": [
        "# # IMPORTANT: SOME KAGGLE DATA SOURCES ARE PRIVATE\n",
        "# # RUN THIS CELL IN ORDER TO IMPORT YOUR KAGGLE DATA SOURCES.\n",
        "# import kagglehub\n",
        "# kagglehub.login()"
      ]
    },
    {
      "cell_type": "code",
      "execution_count": 60,
      "metadata": {
        "id": "M3HVHI0_AUhK"
      },
      "outputs": [],
      "source": [
        "# # IMPORTANT: RUN THIS CELL IN ORDER TO IMPORT YOUR KAGGLE DATA SOURCES,\n",
        "# # THEN FEEL FREE TO DELETE THIS CELL.\n",
        "# # NOTE: THIS NOTEBOOK ENVIRONMENT DIFFERS FROM KAGGLE'S PYTHON\n",
        "# # ENVIRONMENT SO THERE MAY BE MISSING LIBRARIES USED BY YOUR\n",
        "# # NOTEBOOK.\n",
        "\n",
        "# ftwue_path = kagglehub.competition_download('ftwue')\n",
        "\n",
        "# print('Data source import complete.')\n"
      ]
    },
    {
      "cell_type": "code",
      "execution_count": 61,
      "metadata": {},
      "outputs": [],
      "source": [
        "# Load data via folder structure\n",
        "\n",
        "ftwue_path = 'data'"
      ]
    },
    {
      "cell_type": "markdown",
      "metadata": {
        "id": "hkd8A8GZAUhL"
      },
      "source": [
        "# Foot Traffic in Würzburg"
      ]
    },
    {
      "cell_type": "markdown",
      "metadata": {
        "id": "d6j1ckR3AUhN"
      },
      "source": [
        "### Short Kaggle Info"
      ]
    },
    {
      "cell_type": "code",
      "execution_count": 62,
      "metadata": {
        "_cell_guid": "b1076dfc-b9ad-4769-8c92-a6c4dae69d19",
        "_uuid": "8f2839f25d086af736a60e9eeb907d3b93b6e0e5",
        "execution": {
          "iopub.execute_input": "2025-01-17T16:49:26.472059Z",
          "iopub.status.busy": "2025-01-17T16:49:26.47156Z",
          "iopub.status.idle": "2025-01-17T16:49:26.478665Z",
          "shell.execute_reply": "2025-01-17T16:49:26.477277Z",
          "shell.execute_reply.started": "2025-01-17T16:49:26.472014Z"
        },
        "id": "1W7M4_KbAUhO",
        "trusted": true
      },
      "outputs": [],
      "source": [
        "# It is defined by the kaggle/python Docker image: https://github.com/kaggle/docker-python\n",
        "# You can write up to 20GB to the current directory (/kaggle/working/) that gets preserved as output when you create a version using \"Save & Run All\"\n",
        "# You can also write temporary files to /kaggle/temp/, but they won't be saved outside of the current session\n",
        "# Input data files are available in the read-only \"../input/\" directory\n",
        "# For example, running this (by clicking run or pressing Shift+Enter) will list all files under the input directory\n",
        "\n",
        "# import os\n",
        "# for dirname, _, filenames in os.walk('/kaggle/input'):\n",
        "#     for filename in filenames:\n",
        "#         print(os.path.join(dirname, filename))"
      ]
    },
    {
      "cell_type": "markdown",
      "metadata": {
        "id": "Q7bQpwC0AUhO"
      },
      "source": [
        "## Exploratory Data Analysis (EDA)"
      ]
    },
    {
      "cell_type": "code",
      "execution_count": 63,
      "metadata": {
        "id": "2h1BNrIvAUhP",
        "trusted": true
      },
      "outputs": [],
      "source": [
        "# Libraries\n",
        "\n",
        "import numpy as np\n",
        "import pandas as pd"
      ]
    },
    {
      "cell_type": "code",
      "execution_count": 64,
      "metadata": {
        "execution": {
          "iopub.execute_input": "2025-01-17T17:00:47.986534Z",
          "iopub.status.busy": "2025-01-17T17:00:47.986077Z",
          "iopub.status.idle": "2025-01-17T17:00:48.005608Z",
          "shell.execute_reply": "2025-01-17T17:00:48.00438Z",
          "shell.execute_reply.started": "2025-01-17T17:00:47.9865Z"
        },
        "id": "uajZgsHWAUhP",
        "trusted": true
      },
      "outputs": [
        {
          "data": {
            "text/html": [
              "<div>\n",
              "<style scoped>\n",
              "    .dataframe tbody tr th:only-of-type {\n",
              "        vertical-align: middle;\n",
              "    }\n",
              "\n",
              "    .dataframe tbody tr th {\n",
              "        vertical-align: top;\n",
              "    }\n",
              "\n",
              "    .dataframe thead th {\n",
              "        text-align: right;\n",
              "    }\n",
              "</style>\n",
              "<table border=\"1\" class=\"dataframe\">\n",
              "  <thead>\n",
              "    <tr style=\"text-align: right;\">\n",
              "      <th></th>\n",
              "      <th>id</th>\n",
              "      <th>n_pedestrians</th>\n",
              "      <th>n_pedestrians_towards</th>\n",
              "      <th>n_pedestrians_away</th>\n",
              "    </tr>\n",
              "  </thead>\n",
              "  <tbody>\n",
              "    <tr>\n",
              "      <th>0</th>\n",
              "      <td>Schoenbornstrasse_2024-09-16_0</td>\n",
              "      <td>85.032614</td>\n",
              "      <td>40.935775</td>\n",
              "      <td>44.096839</td>\n",
              "    </tr>\n",
              "    <tr>\n",
              "      <th>1</th>\n",
              "      <td>Schoenbornstrasse_2024-09-16_1</td>\n",
              "      <td>46.097341</td>\n",
              "      <td>23.102860</td>\n",
              "      <td>22.994481</td>\n",
              "    </tr>\n",
              "    <tr>\n",
              "      <th>2</th>\n",
              "      <td>Schoenbornstrasse_2024-09-16_2</td>\n",
              "      <td>28.000502</td>\n",
              "      <td>14.102860</td>\n",
              "      <td>13.897642</td>\n",
              "    </tr>\n",
              "    <tr>\n",
              "      <th>3</th>\n",
              "      <td>Schoenbornstrasse_2024-09-16_3</td>\n",
              "      <td>21.362770</td>\n",
              "      <td>10.902659</td>\n",
              "      <td>10.460110</td>\n",
              "    </tr>\n",
              "    <tr>\n",
              "      <th>4</th>\n",
              "      <td>Schoenbornstrasse_2024-09-16_4</td>\n",
              "      <td>19.870045</td>\n",
              "      <td>8.812845</td>\n",
              "      <td>11.057200</td>\n",
              "    </tr>\n",
              "    <tr>\n",
              "      <th>...</th>\n",
              "      <td>...</td>\n",
              "      <td>...</td>\n",
              "      <td>...</td>\n",
              "      <td>...</td>\n",
              "    </tr>\n",
              "    <tr>\n",
              "      <th>1003</th>\n",
              "      <td>Kaiserstrasse_2024-09-29_19</td>\n",
              "      <td>1162.651811</td>\n",
              "      <td>551.877437</td>\n",
              "      <td>610.774373</td>\n",
              "    </tr>\n",
              "    <tr>\n",
              "      <th>1004</th>\n",
              "      <td>Kaiserstrasse_2024-09-29_20</td>\n",
              "      <td>605.877437</td>\n",
              "      <td>278.065460</td>\n",
              "      <td>327.811978</td>\n",
              "    </tr>\n",
              "    <tr>\n",
              "      <th>1005</th>\n",
              "      <td>Kaiserstrasse_2024-09-29_21</td>\n",
              "      <td>396.770195</td>\n",
              "      <td>178.065460</td>\n",
              "      <td>218.704735</td>\n",
              "    </tr>\n",
              "    <tr>\n",
              "      <th>1006</th>\n",
              "      <td>Kaiserstrasse_2024-09-29_22</td>\n",
              "      <td>305.189415</td>\n",
              "      <td>130.176880</td>\n",
              "      <td>175.012535</td>\n",
              "    </tr>\n",
              "    <tr>\n",
              "      <th>1007</th>\n",
              "      <td>Kaiserstrasse_2024-09-29_23</td>\n",
              "      <td>169.472145</td>\n",
              "      <td>72.888579</td>\n",
              "      <td>96.583565</td>\n",
              "    </tr>\n",
              "  </tbody>\n",
              "</table>\n",
              "<p>1008 rows × 4 columns</p>\n",
              "</div>"
            ],
            "text/plain": [
              "                                  id  n_pedestrians  n_pedestrians_towards  \\\n",
              "0     Schoenbornstrasse_2024-09-16_0      85.032614              40.935775   \n",
              "1     Schoenbornstrasse_2024-09-16_1      46.097341              23.102860   \n",
              "2     Schoenbornstrasse_2024-09-16_2      28.000502              14.102860   \n",
              "3     Schoenbornstrasse_2024-09-16_3      21.362770              10.902659   \n",
              "4     Schoenbornstrasse_2024-09-16_4      19.870045               8.812845   \n",
              "...                              ...            ...                    ...   \n",
              "1003     Kaiserstrasse_2024-09-29_19    1162.651811             551.877437   \n",
              "1004     Kaiserstrasse_2024-09-29_20     605.877437             278.065460   \n",
              "1005     Kaiserstrasse_2024-09-29_21     396.770195             178.065460   \n",
              "1006     Kaiserstrasse_2024-09-29_22     305.189415             130.176880   \n",
              "1007     Kaiserstrasse_2024-09-29_23     169.472145              72.888579   \n",
              "\n",
              "      n_pedestrians_away  \n",
              "0              44.096839  \n",
              "1              22.994481  \n",
              "2              13.897642  \n",
              "3              10.460110  \n",
              "4              11.057200  \n",
              "...                  ...  \n",
              "1003          610.774373  \n",
              "1004          327.811978  \n",
              "1005          218.704735  \n",
              "1006          175.012535  \n",
              "1007           96.583565  \n",
              "\n",
              "[1008 rows x 4 columns]"
            ]
          },
          "execution_count": 64,
          "metadata": {},
          "output_type": "execute_result"
        }
      ],
      "source": [
        "sample_submission_df = pd.read_csv(f'{ftwue_path}/sample_submission.csv')\n",
        "sample_submission_df"
      ]
    },
    {
      "cell_type": "code",
      "execution_count": 65,
      "metadata": {
        "execution": {
          "iopub.execute_input": "2025-01-17T17:00:57.00853Z",
          "iopub.status.busy": "2025-01-17T17:00:57.00818Z",
          "iopub.status.idle": "2025-01-17T17:00:57.251415Z",
          "shell.execute_reply": "2025-01-17T17:00:57.250246Z",
          "shell.execute_reply.started": "2025-01-17T17:00:57.008504Z"
        },
        "id": "q_ASsx2gAUhP",
        "trusted": true
      },
      "outputs": [
        {
          "data": {
            "text/html": [
              "<div>\n",
              "<style scoped>\n",
              "    .dataframe tbody tr th:only-of-type {\n",
              "        vertical-align: middle;\n",
              "    }\n",
              "\n",
              "    .dataframe tbody tr th {\n",
              "        vertical-align: top;\n",
              "    }\n",
              "\n",
              "    .dataframe thead th {\n",
              "        text-align: right;\n",
              "    }\n",
              "</style>\n",
              "<table border=\"1\" class=\"dataframe\">\n",
              "  <thead>\n",
              "    <tr style=\"text-align: right;\">\n",
              "      <th></th>\n",
              "      <th>id</th>\n",
              "      <th>streetname</th>\n",
              "      <th>city</th>\n",
              "      <th>date</th>\n",
              "      <th>hour</th>\n",
              "      <th>weekday</th>\n",
              "      <th>n_pedestrians</th>\n",
              "      <th>n_pedestrians_towards</th>\n",
              "      <th>n_pedestrians_away</th>\n",
              "      <th>temperature</th>\n",
              "      <th>weather_condition</th>\n",
              "      <th>incidents</th>\n",
              "      <th>collection_type</th>\n",
              "    </tr>\n",
              "  </thead>\n",
              "  <tbody>\n",
              "    <tr>\n",
              "      <th>0</th>\n",
              "      <td>Schoenbornstrasse_2019-04-02_18</td>\n",
              "      <td>Schoenbornstrasse</td>\n",
              "      <td>Wuerzburg</td>\n",
              "      <td>2019-04-02</td>\n",
              "      <td>18</td>\n",
              "      <td>Tuesday</td>\n",
              "      <td>1324</td>\n",
              "      <td>682</td>\n",
              "      <td>642</td>\n",
              "      <td>18</td>\n",
              "      <td>partly-cloudy-day</td>\n",
              "      <td>no_incident</td>\n",
              "      <td>measured</td>\n",
              "    </tr>\n",
              "    <tr>\n",
              "      <th>1</th>\n",
              "      <td>Schoenbornstrasse_2019-04-02_19</td>\n",
              "      <td>Schoenbornstrasse</td>\n",
              "      <td>Wuerzburg</td>\n",
              "      <td>2019-04-02</td>\n",
              "      <td>19</td>\n",
              "      <td>Tuesday</td>\n",
              "      <td>1406</td>\n",
              "      <td>708</td>\n",
              "      <td>698</td>\n",
              "      <td>16</td>\n",
              "      <td>partly-cloudy-day</td>\n",
              "      <td>no_incident</td>\n",
              "      <td>measured</td>\n",
              "    </tr>\n",
              "  </tbody>\n",
              "</table>\n",
              "</div>"
            ],
            "text/plain": [
              "                                id         streetname        city        date  \\\n",
              "0  Schoenbornstrasse_2019-04-02_18  Schoenbornstrasse   Wuerzburg  2019-04-02   \n",
              "1  Schoenbornstrasse_2019-04-02_19  Schoenbornstrasse   Wuerzburg  2019-04-02   \n",
              "\n",
              "   hour  weekday  n_pedestrians  n_pedestrians_towards  n_pedestrians_away  \\\n",
              "0    18  Tuesday           1324                    682                 642   \n",
              "1    19  Tuesday           1406                    708                 698   \n",
              "\n",
              "   temperature  weather_condition    incidents collection_type  \n",
              "0           18  partly-cloudy-day  no_incident        measured  \n",
              "1           16  partly-cloudy-day  no_incident        measured  "
            ]
          },
          "execution_count": 65,
          "metadata": {},
          "output_type": "execute_result"
        }
      ],
      "source": [
        "train_df = pd.read_csv(f'{ftwue_path}/train.csv')\n",
        "train_df.head(2)"
      ]
    },
    {
      "cell_type": "code",
      "execution_count": 66,
      "metadata": {
        "execution": {
          "iopub.execute_input": "2025-01-17T17:10:53.939605Z",
          "iopub.status.busy": "2025-01-17T17:10:53.939207Z",
          "iopub.status.idle": "2025-01-17T17:10:53.983898Z",
          "shell.execute_reply": "2025-01-17T17:10:53.982761Z",
          "shell.execute_reply.started": "2025-01-17T17:10:53.939579Z"
        },
        "id": "7m9m50-kAUhQ",
        "trusted": true
      },
      "outputs": [
        {
          "name": "stdout",
          "output_type": "stream",
          "text": [
            "<class 'pandas.core.frame.DataFrame'>\n",
            "RangeIndex: 82821 entries, 0 to 82820\n",
            "Data columns (total 13 columns):\n",
            " #   Column                 Non-Null Count  Dtype \n",
            "---  ------                 --------------  ----- \n",
            " 0   id                     82821 non-null  object\n",
            " 1   streetname             82821 non-null  object\n",
            " 2   city                   82821 non-null  object\n",
            " 3   date                   82821 non-null  object\n",
            " 4   hour                   82821 non-null  int64 \n",
            " 5   weekday                82821 non-null  object\n",
            " 6   n_pedestrians          82821 non-null  int64 \n",
            " 7   n_pedestrians_towards  82821 non-null  int64 \n",
            " 8   n_pedestrians_away     82821 non-null  int64 \n",
            " 9   temperature            82821 non-null  int64 \n",
            " 10  weather_condition      82821 non-null  object\n",
            " 11  incidents              82821 non-null  object\n",
            " 12  collection_type        82821 non-null  object\n",
            "dtypes: int64(5), object(8)\n",
            "memory usage: 8.2+ MB\n"
          ]
        }
      ],
      "source": [
        "# View initial columns\n",
        "train_df.info()"
      ]
    },
    {
      "cell_type": "code",
      "execution_count": 67,
      "metadata": {
        "execution": {
          "iopub.execute_input": "2025-01-17T17:01:02.762567Z",
          "iopub.status.busy": "2025-01-17T17:01:02.76209Z",
          "iopub.status.idle": "2025-01-17T17:01:02.783266Z",
          "shell.execute_reply": "2025-01-17T17:01:02.782005Z",
          "shell.execute_reply.started": "2025-01-17T17:01:02.762535Z"
        },
        "id": "SvdoM5Z9AUhQ",
        "trusted": true
      },
      "outputs": [
        {
          "data": {
            "text/html": [
              "<div>\n",
              "<style scoped>\n",
              "    .dataframe tbody tr th:only-of-type {\n",
              "        vertical-align: middle;\n",
              "    }\n",
              "\n",
              "    .dataframe tbody tr th {\n",
              "        vertical-align: top;\n",
              "    }\n",
              "\n",
              "    .dataframe thead th {\n",
              "        text-align: right;\n",
              "    }\n",
              "</style>\n",
              "<table border=\"1\" class=\"dataframe\">\n",
              "  <thead>\n",
              "    <tr style=\"text-align: right;\">\n",
              "      <th></th>\n",
              "      <th>id</th>\n",
              "      <th>streetname</th>\n",
              "      <th>city</th>\n",
              "      <th>date</th>\n",
              "      <th>hour</th>\n",
              "      <th>weekday</th>\n",
              "      <th>temperature</th>\n",
              "      <th>weather_condition</th>\n",
              "      <th>incidents</th>\n",
              "      <th>collection_type</th>\n",
              "    </tr>\n",
              "  </thead>\n",
              "  <tbody>\n",
              "    <tr>\n",
              "      <th>0</th>\n",
              "      <td>Schoenbornstrasse_2024-09-16_0</td>\n",
              "      <td>Schoenbornstrasse</td>\n",
              "      <td>Wuerzburg</td>\n",
              "      <td>2024-09-16</td>\n",
              "      <td>0</td>\n",
              "      <td>Monday</td>\n",
              "      <td>12</td>\n",
              "      <td>cloudy</td>\n",
              "      <td>no_incident</td>\n",
              "      <td>measured</td>\n",
              "    </tr>\n",
              "    <tr>\n",
              "      <th>1</th>\n",
              "      <td>Schoenbornstrasse_2024-09-16_1</td>\n",
              "      <td>Schoenbornstrasse</td>\n",
              "      <td>Wuerzburg</td>\n",
              "      <td>2024-09-16</td>\n",
              "      <td>1</td>\n",
              "      <td>Monday</td>\n",
              "      <td>12</td>\n",
              "      <td>cloudy</td>\n",
              "      <td>no_incident</td>\n",
              "      <td>measured</td>\n",
              "    </tr>\n",
              "  </tbody>\n",
              "</table>\n",
              "</div>"
            ],
            "text/plain": [
              "                               id         streetname        city        date  \\\n",
              "0  Schoenbornstrasse_2024-09-16_0  Schoenbornstrasse   Wuerzburg  2024-09-16   \n",
              "1  Schoenbornstrasse_2024-09-16_1  Schoenbornstrasse   Wuerzburg  2024-09-16   \n",
              "\n",
              "   hour weekday  temperature weather_condition    incidents collection_type  \n",
              "0     0  Monday           12            cloudy  no_incident        measured  \n",
              "1     1  Monday           12            cloudy  no_incident        measured  "
            ]
          },
          "execution_count": 67,
          "metadata": {},
          "output_type": "execute_result"
        }
      ],
      "source": [
        "test_df = pd.read_csv(f'{ftwue_path}/test.csv')\n",
        "test_df.head(2)"
      ]
    },
    {
      "cell_type": "code",
      "execution_count": 68,
      "metadata": {
        "execution": {
          "iopub.execute_input": "2025-01-17T17:11:42.286567Z",
          "iopub.status.busy": "2025-01-17T17:11:42.286207Z",
          "iopub.status.idle": "2025-01-17T17:11:42.298953Z",
          "shell.execute_reply": "2025-01-17T17:11:42.297545Z",
          "shell.execute_reply.started": "2025-01-17T17:11:42.286542Z"
        },
        "id": "AwG5d2TVAUhQ",
        "trusted": true
      },
      "outputs": [
        {
          "name": "stdout",
          "output_type": "stream",
          "text": [
            "<class 'pandas.core.frame.DataFrame'>\n",
            "RangeIndex: 1008 entries, 0 to 1007\n",
            "Data columns (total 10 columns):\n",
            " #   Column             Non-Null Count  Dtype \n",
            "---  ------             --------------  ----- \n",
            " 0   id                 1008 non-null   object\n",
            " 1   streetname         1008 non-null   object\n",
            " 2   city               1008 non-null   object\n",
            " 3   date               1008 non-null   object\n",
            " 4   hour               1008 non-null   int64 \n",
            " 5   weekday            1008 non-null   object\n",
            " 6   temperature        1008 non-null   int64 \n",
            " 7   weather_condition  1008 non-null   object\n",
            " 8   incidents          1008 non-null   object\n",
            " 9   collection_type    1008 non-null   object\n",
            "dtypes: int64(2), object(8)\n",
            "memory usage: 78.9+ KB\n"
          ]
        }
      ],
      "source": [
        "# View initial columns\n",
        "test_df.info()"
      ]
    },
    {
      "cell_type": "code",
      "execution_count": 69,
      "metadata": {
        "execution": {
          "iopub.execute_input": "2025-01-17T17:01:06.98703Z",
          "iopub.status.busy": "2025-01-17T17:01:06.986709Z",
          "iopub.status.idle": "2025-01-17T17:01:06.994059Z",
          "shell.execute_reply": "2025-01-17T17:01:06.992502Z",
          "shell.execute_reply.started": "2025-01-17T17:01:06.987006Z"
        },
        "id": "oHVF3copAUhR",
        "trusted": true
      },
      "outputs": [
        {
          "name": "stdout",
          "output_type": "stream",
          "text": [
            "[{\"id\": 476, \"counter_street_name\": \"Kaiserstra\\u00dfe\", \"city\": \"W\\u00fcrzburg\", \"geo_shape\": {\"type\": \"Feature\", \"geometry\": {\"coordinates\": [[[9.933534264564514, 49.79767989935027], [9.934167265892029, 49.79879140391002], [9.934676885604858, 49.79962588121911], [9.934483766555786, 49.79967089410911], [9.933979511260986, 49.798832954987645], [9.9334055185318, 49.79787727118186], [9.933443069458008, 49.797859957895504], [9.933362603187561, 49.797742227384], [9.93313193321228, 49.79776300337743], [9.93312656879425, 49.79773876471757], [9.933255314826965, 49.79744443716551], [9.933432340621948, 49.79751715355065], [9.933518171310425, 49.79751369086812], [9.933534264564514, 49.79767989935027]]], \"type\": \"Polygon\"}, \"properties\": {}}, \"geo_point_2d\": {\"lon\": 9.933887635731686, \"lat\": 49.798498976405355}},{\"id\": 470, \"counter_street_name\": \"Spiegelstra\\u00dfe\", \"city\": \"W\\u00fcrzburg\", \"geo_shape\": {\"type\": \"Feature\", \"geometry\": {\"coordinates\": [[[9.934698343276976, 49.7948335003235], [9.934966564178467, 49.794909683498354], [9.934456944465637, 49.79507243806135], [9.93388831615448, 49.79530791178004], [9.93362545967102, 49.7953633171945], [9.933571815490723, 49.79540140838018], [9.933223128318787, 49.795262894834096], [9.933544993400574, 49.795242117768026], [9.933775663375854, 49.79519363791248], [9.93432819843292, 49.7949858665534], [9.934698343276976, 49.7948335003235]]], \"type\": \"Polygon\"}, \"properties\": {}}, \"geo_point_2d\": {\"lon\": 9.934114106308467, \"lat\": 49.79512717222457}},{\"id\": 135, \"counter_street_name\": \"Sch\\u00f6nbornstra\\u00dfe\", \"city\": \"W\\u00fcrzburg\", \"geo_shape\": {\"type\": \"Feature\", \"geometry\": {\"coordinates\": [[[9.930891591802778, 49.795012146595376], [9.931128097514513, 49.79507915654703], [9.931203382337914, 49.795952862293035], [9.931045320515405, 49.79602517939397], [9.930996048492128, 49.79567042082637], [9.93096648527816, 49.79556990589888], [9.930891591802778, 49.795012146595376]]], \"type\": \"Polygon\"}, \"properties\": {}}, \"geo_point_2d\": {\"lon\": 9.931060093195851, \"lat\": 49.795490162266525}}]\n"
          ]
        }
      ],
      "source": [
        "json_locations = open(f'{ftwue_path}/counterGeoLocations.json', 'r')\n",
        "print(json_locations.read())\n",
        "# json_locations.close()"
      ]
    },
    {
      "cell_type": "code",
      "execution_count": 70,
      "metadata": {
        "id": "Y_2neVgQAUhR",
        "trusted": true
      },
      "outputs": [],
      "source": [
        "## Setting the features and target variables"
      ]
    },
    {
      "cell_type": "code",
      "execution_count": 71,
      "metadata": {
        "execution": {
          "iopub.execute_input": "2025-01-17T17:02:43.428613Z",
          "iopub.status.busy": "2025-01-17T17:02:43.42826Z",
          "iopub.status.idle": "2025-01-17T17:02:43.449455Z",
          "shell.execute_reply": "2025-01-17T17:02:43.448225Z",
          "shell.execute_reply.started": "2025-01-17T17:02:43.428588Z"
        },
        "id": "YDwGdHA-AUhR",
        "trusted": true
      },
      "outputs": [
        {
          "name": "stdout",
          "output_type": "stream",
          "text": [
            "(82821, 12)\n",
            "(82821,)\n"
          ]
        }
      ],
      "source": [
        "y = train_df[\"n_pedestrians\"]\n",
        "X = X = train_df.drop(columns=[\"n_pedestrians\"])\n",
        "\n",
        "print(X.shape)  # (82821, 12) -> X features\n",
        "print(y.shape)  # (82821,) -> y target variable (demand)"
      ]
    },
    {
      "cell_type": "code",
      "execution_count": 72,
      "metadata": {
        "execution": {
          "iopub.execute_input": "2025-01-17T17:09:14.587877Z",
          "iopub.status.busy": "2025-01-17T17:09:14.587431Z",
          "iopub.status.idle": "2025-01-17T17:09:14.638392Z",
          "shell.execute_reply": "2025-01-17T17:09:14.637264Z",
          "shell.execute_reply.started": "2025-01-17T17:09:14.587848Z"
        },
        "id": "MqOsaoZsAUhR",
        "trusted": true
      },
      "outputs": [],
      "source": [
        "# Add feature: Season\n",
        "\n",
        "X['date'] = pd.to_datetime(X['date'])\n",
        "\n",
        "# New columns: Extract the missing date features (month and year)\n",
        "X['month'] = X['date'].dt.month\n",
        "X['year'] = X['date'].dt.year\n",
        "\n",
        "# Map months to seasons\n",
        "X['season'] = X['month'].apply(lambda x:\n",
        "    'winter' if x in [12, 1, 2] else\n",
        "    'spring' if x in [3, 4, 5] else\n",
        "    'summer' if x in [6, 7, 8] else\n",
        "    'autumn'\n",
        ")"
      ]
    },
    {
      "cell_type": "code",
      "execution_count": 73,
      "metadata": {},
      "outputs": [
        {
          "name": "stdout",
          "output_type": "stream",
          "text": [
            "['Tuesday' 'Wednesday' 'Thursday' 'Friday' 'Saturday' 'Sunday' 'Monday']\n"
          ]
        }
      ],
      "source": [
        "print(train_df['weekday'].unique())"
      ]
    },
    {
      "cell_type": "code",
      "execution_count": 74,
      "metadata": {
        "id": "hsCGGme3AUhS",
        "trusted": true
      },
      "outputs": [],
      "source": [
        "# Create one-hot encodings\n",
        "\n",
        "train_df['is_weekend'] = train_df['weekday'].apply(lambda x: 1 if x in ['Saturday', 'Sunday'] else 0)\n",
        "X = pd.get_dummies(X, columns=[\"year\",\"weekday\",\"month\",\"streetname\",\"season\"])"
      ]
    },
    {
      "cell_type": "code",
      "execution_count": 75,
      "metadata": {
        "execution": {
          "iopub.execute_input": "2025-01-17T17:12:55.992829Z",
          "iopub.status.busy": "2025-01-17T17:12:55.992398Z",
          "iopub.status.idle": "2025-01-17T17:12:56.001433Z",
          "shell.execute_reply": "2025-01-17T17:12:55.999102Z",
          "shell.execute_reply.started": "2025-01-17T17:12:55.992797Z"
        },
        "id": "I8T4DZ6aAUhS",
        "trusted": true
      },
      "outputs": [
        {
          "data": {
            "text/plain": [
              "Index(['id', 'city', 'date', 'hour', 'n_pedestrians_towards',\n",
              "       'n_pedestrians_away', 'temperature', 'weather_condition', 'incidents',\n",
              "       'collection_type', 'year_2019', 'year_2020', 'year_2021', 'year_2022',\n",
              "       'year_2023', 'year_2024', 'weekday_Friday', 'weekday_Monday',\n",
              "       'weekday_Saturday', 'weekday_Sunday', 'weekday_Thursday',\n",
              "       'weekday_Tuesday', 'weekday_Wednesday', 'month_1', 'month_2', 'month_3',\n",
              "       'month_4', 'month_5', 'month_6', 'month_7', 'month_8', 'month_9',\n",
              "       'month_10', 'month_11', 'month_12', 'streetname_Kaiserstrasse',\n",
              "       'streetname_Schoenbornstrasse', 'streetname_Spiegelstrasse',\n",
              "       'season_autumn', 'season_spring', 'season_summer', 'season_winter'],\n",
              "      dtype='object')"
            ]
          },
          "execution_count": 75,
          "metadata": {},
          "output_type": "execute_result"
        }
      ],
      "source": [
        "# View columns\n",
        "X.columns"
      ]
    },
    {
      "cell_type": "markdown",
      "metadata": {
        "id": "6z7Z7LosAUhS"
      },
      "source": [
        "**Ensuring data coverage by street**"
      ]
    },
    {
      "cell_type": "code",
      "execution_count": 76,
      "metadata": {
        "execution": {
          "iopub.execute_input": "2025-01-17T17:35:07.718233Z",
          "iopub.status.busy": "2025-01-17T17:35:07.717836Z",
          "iopub.status.idle": "2025-01-17T17:35:07.820993Z",
          "shell.execute_reply": "2025-01-17T17:35:07.819711Z",
          "shell.execute_reply.started": "2025-01-17T17:35:07.718202Z"
        },
        "id": "YlBiw_f9AUhS",
        "trusted": true
      },
      "outputs": [
        {
          "name": "stdout",
          "output_type": "stream",
          "text": [
            "Time series for Kaiserstrasse:\n",
            "              date  n_pedestrians_towards  n_pedestrians_away  \\\n",
            "65591  2022-09-29                     11                  46   \n",
            "65614  2022-09-29                     45                  35   \n",
            "65613  2022-09-29                     56                  90   \n",
            "65612  2022-09-29                     84                 125   \n",
            "65611  2022-09-29                    206                 223   \n",
            "\n",
            "       total_pedestrians  \n",
            "65591                 57  \n",
            "65614                 80  \n",
            "65613                146  \n",
            "65612                209  \n",
            "65611                429  \n",
            "Time series for Schoenbornstrasse:\n",
            "          date  n_pedestrians_towards  n_pedestrians_away  total_pedestrians\n",
            "0  2019-04-02                    682                 642               1324\n",
            "1  2019-04-02                    708                 698               1406\n",
            "2  2019-04-02                    348                 328                676\n",
            "3  2019-04-02                    205                 154                359\n",
            "4  2019-04-02                    127                  98                225\n",
            "Time series for Spiegelstrasse:\n",
            "              date  n_pedestrians_towards  n_pedestrians_away  \\\n",
            "47833  2022-09-07                     24                  22   \n",
            "47856  2022-09-07                     32                  32   \n",
            "47855  2022-09-07                     51                  73   \n",
            "47854  2022-09-07                    109                 105   \n",
            "47853  2022-09-07                    166                 197   \n",
            "\n",
            "       total_pedestrians  \n",
            "47833                 46  \n",
            "47856                 64  \n",
            "47855                124  \n",
            "47854                214  \n",
            "47853                363  \n"
          ]
        }
      ],
      "source": [
        "data = train_df.copy()\n",
        "\n",
        "# Dictionary to store the full time series DataFrame for each streetname combination\n",
        "street_time_series_dict = {}\n",
        "\n",
        "# Iterate over each group and store the full DataFrame as the time series\n",
        "for streetname, group in data.groupby('streetname'):  # Group only by 'streetname', no tuple\n",
        "    # Sort the group by 'date' to ensure chronological order\n",
        "    group = group.sort_values(by='date')\n",
        "\n",
        "    # Include both 'n_pedestrians_towards' and 'n_pedestrians_away' in the time series\n",
        "    time_series_df = group[['date', 'n_pedestrians_towards', 'n_pedestrians_away']].copy()\n",
        "\n",
        "    # Add a total pedestrians column\n",
        "    time_series_df['total_pedestrians'] = group['n_pedestrians_towards'] + group['n_pedestrians_away']\n",
        "\n",
        "    # Store the full time series DataFrame for this streetname\n",
        "    street_time_series_dict[streetname] = time_series_df\n",
        "\n",
        "# Display an example of a time series for a specific streetname (optional)\n",
        "for key, time_series in street_time_series_dict.items():\n",
        "    print(f\"Time series for {key}:\\n\", time_series.head())\n",
        "    # break  # Uncomment if you only want to see one street's time series"
      ]
    },
    {
      "cell_type": "code",
      "execution_count": 77,
      "metadata": {
        "execution": {
          "iopub.execute_input": "2025-01-17T17:47:10.397199Z",
          "iopub.status.busy": "2025-01-17T17:47:10.396731Z",
          "iopub.status.idle": "2025-01-17T17:47:12.651558Z",
          "shell.execute_reply": "2025-01-17T17:47:12.650255Z",
          "shell.execute_reply.started": "2025-01-17T17:47:10.397157Z"
        },
        "id": "cmfek_ENAUhS",
        "trusted": true
      },
      "outputs": [
        {
          "data": {
            "image/png": "[encoded data removed]",
            "text/plain": [
              "<Figure size 1000x600 with 1 Axes>"
            ]
          },
          "metadata": {},
          "output_type": "display_data"
        },
        {
          "data": {
            "image/png": "[encoded data removed]",
            "text/plain": [
              "<Figure size 1000x600 with 1 Axes>"
            ]
          },
          "metadata": {},
          "output_type": "display_data"
        },
        {
          "data": {
            "image/png": "[encoded data removed]",
            "text/plain": [
              "<Figure size 1000x600 with 1 Axes>"
            ]
          },
          "metadata": {},
          "output_type": "display_data"
        }
      ],
      "source": [
        "import matplotlib.pyplot as plt\n",
        "import matplotlib.dates as mdates\n",
        "\n",
        "# Loop through each street and plot the total pedestrians time series\n",
        "for streetname, time_series in street_time_series_dict.items():\n",
        "    plt.figure(figsize=(10, 6))  # Create a new figure for each street\n",
        "\n",
        "    # Plot total pedestrians\n",
        "    plt.plot(time_series['date'], time_series['total_pedestrians'], label=f'{streetname} - Total', color='green')\n",
        "\n",
        "    # Add title and labels\n",
        "    plt.title(f'Total Pedestrians for {streetname}')\n",
        "    plt.xlabel('Date')\n",
        "    plt.ylabel('Total Number of Pedestrians')\n",
        "\n",
        "    # Format the x-axis to show quarterly ticks (every 3 months)\n",
        "    plt.gca().xaxis.set_major_locator(mdates.MonthLocator(bymonthday=1, interval=3))  # Every 3 months\n",
        "    plt.gca().xaxis.set_major_formatter(mdates.DateFormatter('%Y-%m'))  # Format as Year-Month\n",
        "\n",
        "    # Rotate x-axis labels for better readability\n",
        "    plt.xticks(rotation=45)\n",
        "\n",
        "    # Add a legend\n",
        "    plt.legend()\n",
        "\n",
        "    # Adjust layout to prevent overlap\n",
        "    plt.tight_layout()\n",
        "\n",
        "    # Show plot\n",
        "    plt.show()\n"
      ]
    },
    {
      "cell_type": "code",
      "execution_count": 78,
      "metadata": {
        "execution": {
          "iopub.execute_input": "2025-01-17T17:56:12.395196Z",
          "iopub.status.busy": "2025-01-17T17:56:12.394728Z",
          "iopub.status.idle": "2025-01-17T17:56:12.545975Z",
          "shell.execute_reply": "2025-01-17T17:56:12.544619Z",
          "shell.execute_reply.started": "2025-01-17T17:56:12.395161Z"
        },
        "id": "gCgZctj3AUhT",
        "trusted": true
      },
      "outputs": [
        {
          "name": "stdout",
          "output_type": "stream",
          "text": [
            "<class 'pandas.core.frame.DataFrame'>\n",
            "RangeIndex: 62115 entries, 0 to 62114\n",
            "Data columns (total 43 columns):\n",
            " #   Column                        Non-Null Count  Dtype         \n",
            "---  ------                        --------------  -----         \n",
            " 0   date                          62115 non-null  datetime64[ns]\n",
            " 1   id                            62115 non-null  object        \n",
            " 2   city                          62115 non-null  object        \n",
            " 3   hour                          62115 non-null  int64         \n",
            " 4   n_pedestrians_towards         62115 non-null  float64       \n",
            " 5   n_pedestrians_away            62115 non-null  float64       \n",
            " 6   temperature                   62115 non-null  float64       \n",
            " 7   weather_condition             62115 non-null  object        \n",
            " 8   incidents                     62115 non-null  object        \n",
            " 9   collection_type               62115 non-null  object        \n",
            " 10  year_2019                     62115 non-null  bool          \n",
            " 11  year_2020                     62115 non-null  bool          \n",
            " 12  year_2021                     62115 non-null  bool          \n",
            " 13  year_2022                     62115 non-null  bool          \n",
            " 14  year_2023                     62115 non-null  bool          \n",
            " 15  year_2024                     62115 non-null  bool          \n",
            " 16  weekday_Friday                62115 non-null  bool          \n",
            " 17  weekday_Monday                62115 non-null  bool          \n",
            " 18  weekday_Saturday              62115 non-null  bool          \n",
            " 19  weekday_Sunday                62115 non-null  bool          \n",
            " 20  weekday_Thursday              62115 non-null  bool          \n",
            " 21  weekday_Tuesday               62115 non-null  bool          \n",
            " 22  weekday_Wednesday             62115 non-null  bool          \n",
            " 23  month_1                       62115 non-null  bool          \n",
            " 24  month_2                       62115 non-null  bool          \n",
            " 25  month_3                       62115 non-null  bool          \n",
            " 26  month_4                       62115 non-null  bool          \n",
            " 27  month_5                       62115 non-null  bool          \n",
            " 28  month_6                       62115 non-null  bool          \n",
            " 29  month_7                       62115 non-null  bool          \n",
            " 30  month_8                       62115 non-null  bool          \n",
            " 31  month_9                       62115 non-null  bool          \n",
            " 32  month_10                      62115 non-null  bool          \n",
            " 33  month_11                      62115 non-null  bool          \n",
            " 34  month_12                      62115 non-null  bool          \n",
            " 35  streetname_Kaiserstrasse      62115 non-null  bool          \n",
            " 36  streetname_Schoenbornstrasse  62115 non-null  bool          \n",
            " 37  streetname_Spiegelstrasse     62115 non-null  bool          \n",
            " 38  season_autumn                 62115 non-null  bool          \n",
            " 39  season_spring                 62115 non-null  bool          \n",
            " 40  season_summer                 62115 non-null  bool          \n",
            " 41  season_winter                 62115 non-null  bool          \n",
            " 42  n_pedestrians                 62115 non-null  int64         \n",
            "dtypes: bool(32), datetime64[ns](1), float64(3), int64(2), object(5)\n",
            "memory usage: 7.1+ MB\n"
          ]
        }
      ],
      "source": [
        "from sklearn.model_selection import train_test_split\n",
        "from sklearn.model_selection import train_test_split\n",
        "from sklearn.preprocessing import StandardScaler\n",
        "\n",
        "# Using a standard scaler only on continuous variables\n",
        "\n",
        "import pandas as pd\n",
        "import numpy as np\n",
        "from sklearn.model_selection import train_test_split\n",
        "from sklearn.preprocessing import StandardScaler\n",
        "\n",
        "# Assuming X contains your features and y your target\n",
        "\n",
        "# Separate the date column from X for train-test splitting\n",
        "date_column = X['date']  # Keep date separately for reference (if you want to use it later)\n",
        "\n",
        "# Perform train-test split without 'date' column (already done previously)\n",
        "X_train, X_test, y_train, y_test = train_test_split(\n",
        "    X.drop(columns=['date']), y, train_size=0.75, shuffle=True\n",
        ")\n",
        "\n",
        "# Standardization (scaling) for continuous features\n",
        "scaler = StandardScaler()\n",
        "scaler.fit(X_train[['n_pedestrians_towards', 'n_pedestrians_away', 'temperature']])  # Use continuous columns\n",
        "\n",
        "X_train_scaled = X_train.copy()\n",
        "X_test_scaled = X_test.copy()\n",
        "\n",
        "X_train_scaled[['n_pedestrians_towards', 'n_pedestrians_away', 'temperature']] = scaler.transform(X_train[['n_pedestrians_towards', 'n_pedestrians_away', 'temperature']])\n",
        "X_test_scaled[['n_pedestrians_towards', 'n_pedestrians_away', 'temperature']] = scaler.transform(X_test[['n_pedestrians_towards', 'n_pedestrians_away', 'temperature']])\n",
        "\n",
        "# Reset the indices of the train and test sets to ensure alignment\n",
        "X_train_scaled.reset_index(drop=True, inplace=True)\n",
        "X_test_scaled.reset_index(drop=True, inplace=True)\n",
        "y_train.reset_index(drop=True, inplace=True)\n",
        "y_test.reset_index(drop=True, inplace=True)\n",
        "\n",
        "# Concatenate date, scaled features X and scaled target y for train and test sets\n",
        "train_data = pd.concat([date_column.loc[X_train.index].reset_index(drop=True), X_train_scaled, y_train], axis=1)\n",
        "test_data = pd.concat([date_column.loc[X_test.index].reset_index(drop=True), X_test_scaled, y_test], axis=1)\n",
        "\n",
        "# Print the info of the train_data\n",
        "train_data.info()"
      ]
    },
    {
      "cell_type": "markdown",
      "metadata": {
        "id": "spiZ8ZysAUhT"
      },
      "source": [
        "### Aggregation by month and year for seasonal analysis"
      ]
    },
    {
      "cell_type": "code",
      "execution_count": 79,
      "metadata": {
        "id": "FSodsNsDAUhT",
        "trusted": true
      },
      "outputs": [
        {
          "name": "stdout",
          "output_type": "stream",
          "text": [
            "66\n"
          ]
        }
      ],
      "source": [
        "# If needed, aggregate by 'year-month' for both train and test sets\n",
        "train_data['year_month'] = train_data['date'].dt.to_period('M').dt.to_timestamp()\n",
        "test_data['year_month'] = test_data['date'].dt.to_period('M').dt.to_timestamp()\n",
        "\n",
        "# Group by year-month and aggregate the 'demand' values\n",
        "train_df = train_data.groupby('year_month').agg({'n_pedestrians': 'sum'}).reset_index()\n",
        "test_df = test_data.groupby('year_month').agg({'n_pedestrians': 'sum'}).reset_index()\n",
        "\n",
        "# Count the number of unique year-month values in the train set\n",
        "print(train_df['year_month'].count())  # This will show the number of months in the training data"
      ]
    },
    {
      "cell_type": "markdown",
      "metadata": {},
      "source": [
        "## Filter data: Drop lines with incidents and construction sites"
      ]
    },
    {
      "cell_type": "code",
      "execution_count": 80,
      "metadata": {},
      "outputs": [
        {
          "name": "stdout",
          "output_type": "stream",
          "text": [
            "Rows without any incident: 59781\n",
            "Rows without any incident: 59781\n"
          ]
        }
      ],
      "source": [
        "count = ((train_data['collection_type'] == 'measured') & (train_data['incidents'] == 'no_incident')).sum()\n",
        "print(f\"Rows without any incident: {count}\")\n",
        "\n",
        "count = ((train_data['collection_type'] == 'measured') & (train_data['incidents'] == 'no_incident')).sum()\n",
        "print(f\"Rows without any incident: {count}\")"
      ]
    },
    {
      "cell_type": "code",
      "execution_count": 81,
      "metadata": {},
      "outputs": [
        {
          "name": "stdout",
          "output_type": "stream",
          "text": [
            "<class 'pandas.core.frame.DataFrame'>\n",
            "Index: 59781 entries, 0 to 62114\n",
            "Data columns (total 44 columns):\n",
            " #   Column                        Non-Null Count  Dtype         \n",
            "---  ------                        --------------  -----         \n",
            " 0   date                          59781 non-null  datetime64[ns]\n",
            " 1   id                            59781 non-null  object        \n",
            " 2   city                          59781 non-null  object        \n",
            " 3   hour                          59781 non-null  int64         \n",
            " 4   n_pedestrians_towards         59781 non-null  float64       \n",
            " 5   n_pedestrians_away            59781 non-null  float64       \n",
            " 6   temperature                   59781 non-null  float64       \n",
            " 7   weather_condition             59781 non-null  object        \n",
            " 8   incidents                     59781 non-null  object        \n",
            " 9   collection_type               59781 non-null  object        \n",
            " 10  year_2019                     59781 non-null  bool          \n",
            " 11  year_2020                     59781 non-null  bool          \n",
            " 12  year_2021                     59781 non-null  bool          \n",
            " 13  year_2022                     59781 non-null  bool          \n",
            " 14  year_2023                     59781 non-null  bool          \n",
            " 15  year_2024                     59781 non-null  bool          \n",
            " 16  weekday_Friday                59781 non-null  bool          \n",
            " 17  weekday_Monday                59781 non-null  bool          \n",
            " 18  weekday_Saturday              59781 non-null  bool          \n",
            " 19  weekday_Sunday                59781 non-null  bool          \n",
            " 20  weekday_Thursday              59781 non-null  bool          \n",
            " 21  weekday_Tuesday               59781 non-null  bool          \n",
            " 22  weekday_Wednesday             59781 non-null  bool          \n",
            " 23  month_1                       59781 non-null  bool          \n",
            " 24  month_2                       59781 non-null  bool          \n",
            " 25  month_3                       59781 non-null  bool          \n",
            " 26  month_4                       59781 non-null  bool          \n",
            " 27  month_5                       59781 non-null  bool          \n",
            " 28  month_6                       59781 non-null  bool          \n",
            " 29  month_7                       59781 non-null  bool          \n",
            " 30  month_8                       59781 non-null  bool          \n",
            " 31  month_9                       59781 non-null  bool          \n",
            " 32  month_10                      59781 non-null  bool          \n",
            " 33  month_11                      59781 non-null  bool          \n",
            " 34  month_12                      59781 non-null  bool          \n",
            " 35  streetname_Kaiserstrasse      59781 non-null  bool          \n",
            " 36  streetname_Schoenbornstrasse  59781 non-null  bool          \n",
            " 37  streetname_Spiegelstrasse     59781 non-null  bool          \n",
            " 38  season_autumn                 59781 non-null  bool          \n",
            " 39  season_spring                 59781 non-null  bool          \n",
            " 40  season_summer                 59781 non-null  bool          \n",
            " 41  season_winter                 59781 non-null  bool          \n",
            " 42  n_pedestrians                 59781 non-null  int64         \n",
            " 43  year_month                    59781 non-null  datetime64[ns]\n",
            "dtypes: bool(32), datetime64[ns](2), float64(3), int64(2), object(5)\n",
            "memory usage: 7.8+ MB\n"
          ]
        }
      ],
      "source": [
        "# Create a filtered dataset: reliable without incidents \n",
        "# Drop laser failure due to sample size <30 (24)\n",
        "# Drop construction site due to misrepresentation and sample size = 845\n",
        "# then drop incidents\n",
        "\n",
        "train_data_filtered = train_data[\n",
        "    (train_data.get('collection_type') == 'measured') &\n",
        "    (train_data.get('incidents') == 'no_incident')\n",
        "]\n",
        "\n",
        "train_data_filtered.info()"
      ]
    },
    {
      "cell_type": "code",
      "execution_count": 82,
      "metadata": {},
      "outputs": [],
      "source": [
        "train_data_filtered = train_data_filtered.drop(['collection_type', 'incidents','city'], axis=1)"
      ]
    },
    {
      "cell_type": "code",
      "execution_count": 85,
      "metadata": {},
      "outputs": [
        {
          "data": {
            "text/plain": [
              "Index(['date', 'id', 'hour', 'n_pedestrians_towards', 'n_pedestrians_away',\n",
              "       'temperature', 'weather_condition', 'year_2019', 'year_2020',\n",
              "       'year_2021', 'year_2022', 'year_2023', 'year_2024', 'weekday_Friday',\n",
              "       'weekday_Monday', 'weekday_Saturday', 'weekday_Sunday',\n",
              "       'weekday_Thursday', 'weekday_Tuesday', 'weekday_Wednesday', 'month_1',\n",
              "       'month_2', 'month_3', 'month_4', 'month_5', 'month_6', 'month_7',\n",
              "       'month_8', 'month_9', 'month_10', 'month_11', 'month_12',\n",
              "       'streetname_Kaiserstrasse', 'streetname_Schoenbornstrasse',\n",
              "       'streetname_Spiegelstrasse', 'season_autumn', 'season_spring',\n",
              "       'season_summer', 'season_winter', 'n_pedestrians', 'year_month'],\n",
              "      dtype='object')"
            ]
          },
          "execution_count": 85,
          "metadata": {},
          "output_type": "execute_result"
        }
      ],
      "source": [
        "train_data_filtered.columns"
      ]
    },
    {
      "cell_type": "markdown",
      "metadata": {
        "id": "lYtgCcy9AUhT"
      },
      "source": [
        "## Run some sample models"
      ]
    },
    {
      "cell_type": "markdown",
      "metadata": {},
      "source": [
        "**Models - Note on dropping the date column**\n",
        "\n",
        "\n",
        "When to keep the date column:\n",
        "\n",
        "**Trend or sequential models**\n",
        "\n",
        "For **time-series forecasting models** (e.g., ARIMA, LSTMs), date plays a critical role since the sequential order of the data matters.\n",
        "If you're using date to create **lagged features, rolling averages, or trends,** it must remain in the dataset.\n",
        "\n",
        "**Seasonality and trend extraction:**\n",
        "If you plan to create additional features like is_holiday, is_weekend, or extract temporal trends (e.g., exponential smoothing or Fourier terms), keeping date as a reference can be useful.\n",
        "Auditing and Interpretability:\n",
        "\n",
        "Keeping date in your dataset during exploratory analysis can help track model performance over time and assess how predictions vary with date-specific patterns.\n",
        "\n",
        "---\n",
        "When to drop:\n",
        "\n",
        "If you’ve already derived features like weekday, hour, and other relevant temporal indicators, dropping date is fine for most traditional ML models (like regression, decision trees, etc.). However, if you're working on a time-series model or need the date column for feature engineering, then keep it."
      ]
    },
    {
      "cell_type": "code",
      "execution_count": 89,
      "metadata": {},
      "outputs": [],
      "source": [
        "# Train-test split for each of the 3 target variables\n",
        "\n",
        "target_columns = ['n_pedestrians', 'n_pedestrians_towards', 'n_pedestrians_away']\n",
        "\n",
        "X_train, X_test, y_train, y_test = train_test_split(\n",
        "    train_data_filtered.drop(target_columns, axis=1),  # dropping the target columns y, keeping features X\n",
        "    train_data_filtered['n_pedestrians'], # first target variable\n",
        "    test_size=0.25, \n",
        "    random_state=1000  # setting a seed \n",
        ")"
      ]
    },
    {
      "cell_type": "markdown",
      "metadata": {
        "id": "3OqFRKNLAUhT"
      },
      "source": [
        "### RNN"
      ]
    }
  ],
  "metadata": {
    "colab": {
      "name": "notebook_test",
      "provenance": []
    },
    "kaggle": {
      "accelerator": "none",
      "dataSources": [
        {
          "databundleVersionId": 9985974,
          "sourceId": 86470,
          "sourceType": "competition"
        }
      ],
      "dockerImageVersionId": 30822,
      "isGpuEnabled": false,
      "isInternetEnabled": false,
      "language": "python",
      "sourceType": "notebook"
    },
    "kernelspec": {
      "display_name": "Python (omSem)",
      "language": "python",
      "name": "omsem"
    },
    "language_info": {
      "codemirror_mode": {
        "name": "ipython",
        "version": 3
      },
      "file_extension": ".py",
      "mimetype": "text/x-python",
      "name": "python",
      "nbconvert_exporter": "python",
      "pygments_lexer": "ipython3",
      "version": "3.13.0"
    }
  },
  "nbformat": 4,
  "nbformat_minor": 0
}
